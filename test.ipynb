{
 "cells": [
  {
   "cell_type": "markdown",
   "id": "5c2a5228",
   "metadata": {},
   "source": [
    "## EDA"
   ]
  },
  {
   "cell_type": "code",
   "execution_count": 92,
   "id": "a96f4b0f",
   "metadata": {},
   "outputs": [],
   "source": [
    "import pandas as pd\n",
    "from sklearn.preprocessing import StandardScaler"
   ]
  },
  {
   "cell_type": "code",
   "execution_count": 81,
   "id": "e4e98a85",
   "metadata": {},
   "outputs": [],
   "source": [
    "df = pd.read_csv('papermodeldata(in).csv')"
   ]
  },
  {
   "cell_type": "code",
   "execution_count": 82,
   "id": "cba64a66",
   "metadata": {},
   "outputs": [
    {
     "data": {
      "text/plain": [
       "51"
      ]
     },
     "execution_count": 82,
     "metadata": {},
     "output_type": "execute_result"
    }
   ],
   "source": [
    "len(df.columns) -5 "
   ]
  },
  {
   "cell_type": "code",
   "execution_count": 83,
   "id": "2e8fedcd",
   "metadata": {},
   "outputs": [
    {
     "data": {
      "text/plain": [
       "np.float64(0.6785127250348604)"
      ]
     },
     "execution_count": 83,
     "metadata": {},
     "output_type": "execute_result"
    }
   ],
   "source": [
    "count_labels = df['y'].groupby(df['y']).count()\n",
    "count_labels[1]/count_labels[0]*100"
   ]
  },
  {
   "cell_type": "code",
   "execution_count": 84,
   "id": "89199aa8",
   "metadata": {},
   "outputs": [
    {
     "data": {
      "text/plain": [
       "VitalID\n",
       "1005     12\n",
       "1007    138\n",
       "1010    267\n",
       "1011     53\n",
       "1013    103\n",
       "       ... \n",
       "8769     13\n",
       "8770      6\n",
       "8771      4\n",
       "8772      8\n",
       "8773      4\n",
       "Name: VitalID, Length: 5957, dtype: int64"
      ]
     },
     "execution_count": 84,
     "metadata": {},
     "output_type": "execute_result"
    }
   ],
   "source": [
    "df['VitalID'].groupby(df['VitalID']).count()"
   ]
  },
  {
   "cell_type": "code",
   "execution_count": 85,
   "id": "ef7b54b8",
   "metadata": {},
   "outputs": [],
   "source": [
    "df_dead = df[df['y'] == 1]\n",
    "df_alive = df[df['y'] == 0]"
   ]
  },
  {
   "cell_type": "code",
   "execution_count": 86,
   "id": "7053ddab",
   "metadata": {},
   "outputs": [
    {
     "data": {
      "text/plain": [
       "VitalID\n",
       "1005     12\n",
       "1007    138\n",
       "1010    265\n",
       "1011     53\n",
       "1013     98\n",
       "       ... \n",
       "8769     13\n",
       "8770      6\n",
       "8771      4\n",
       "8772      8\n",
       "8773      4\n",
       "Name: VitalID, Length: 5948, dtype: int64"
      ]
     },
     "execution_count": 86,
     "metadata": {},
     "output_type": "execute_result"
    }
   ],
   "source": [
    "df_alive['VitalID'].groupby(df_alive['VitalID']).count()"
   ]
  },
  {
   "cell_type": "code",
   "execution_count": 87,
   "id": "42cc5724",
   "metadata": {},
   "outputs": [
    {
     "data": {
      "text/plain": [
       "VitalID\n",
       "1010    2\n",
       "1013    5\n",
       "1017    7\n",
       "1028    3\n",
       "1031    3\n",
       "       ..\n",
       "8364    2\n",
       "8501    1\n",
       "8510    2\n",
       "8521    3\n",
       "8549    5\n",
       "Name: VitalID, Length: 219, dtype: int64"
      ]
     },
     "execution_count": 87,
     "metadata": {},
     "output_type": "execute_result"
    }
   ],
   "source": [
    "df_dead['VitalID'].groupby(df_dead['VitalID']).count()"
   ]
  },
  {
   "cell_type": "code",
   "execution_count": 88,
   "id": "9ad0ca84",
   "metadata": {},
   "outputs": [
    {
     "name": "stdout",
     "output_type": "stream",
     "text": [
      "0.674415267613718\n",
      "0.5912786400591279\n",
      "0.5741482208959734\n",
      "0.7453205725417126\n",
      "0.5463627848891663\n",
      "0.7854225573358466\n",
      "0.8354916868577157\n",
      "0.5309466019417476\n",
      "0.6714517249363279\n",
      "0.8686388592968943\n"
     ]
    }
   ],
   "source": [
    "count_folds = df.groupby(['fold','y']).size()\n",
    "first = None\n",
    "second = None\n",
    "count = 0\n",
    "for i in count_folds:\n",
    "    count+=1\n",
    "    if not(first):\n",
    "        first = i\n",
    "    else:\n",
    "        second = i\n",
    "\n",
    "    if(count==2):\n",
    "        count = 0\n",
    "        print((second/first)*100)\n",
    "        first = None \n",
    "        second = None\n",
    "    "
   ]
  },
  {
   "cell_type": "code",
   "execution_count": 89,
   "id": "29727d04",
   "metadata": {},
   "outputs": [],
   "source": [
    "df.drop(['VitalID', 'time','fold','ttd'], axis=1, inplace=True)\n",
    "df_na_dropped = df.dropna()\n",
    "df_dead = df[df['y'] == 1]\n",
    "df_alive = df[df['y'] == 0]\n",
    "df_dead_na_dropped = df_na_dropped[df_na_dropped['y'] == 1]\n",
    "df_alive_na_dropped = df_na_dropped[df_na_dropped['y'] == 0]"
   ]
  },
  {
   "cell_type": "code",
   "execution_count": 90,
   "id": "6ba51166",
   "metadata": {},
   "outputs": [
    {
     "name": "stdout",
     "output_type": "stream",
     "text": [
      "1.6073478760045925\n",
      "2.0324221579976474\n"
     ]
    }
   ],
   "source": [
    "print(((len(df_dead)- len(df_dead_na_dropped)) /len(df_dead)) * 100)\n",
    "print(((len(df_alive) - len(df_alive_na_dropped)) /len(df_alive))*100)"
   ]
  },
  {
   "cell_type": "markdown",
   "id": "dde131e2",
   "metadata": {},
   "source": [
    "## Data Preparation"
   ]
  },
  {
   "cell_type": "code",
   "execution_count": 12,
   "id": "44ea594f",
   "metadata": {},
   "outputs": [],
   "source": [
    "# keep the y seprate \n",
    "# remove nan values \n",
    "# remove duplicate values"
   ]
  },
  {
   "cell_type": "code",
   "execution_count": 44,
   "id": "40fd7039",
   "metadata": {},
   "outputs": [],
   "source": [
    "true_values = df['y']\n",
    "fold = df['fold']\n",
    "time = df['time']"
   ]
  },
  {
   "cell_type": "code",
   "execution_count": 45,
   "id": "5bc81772",
   "metadata": {},
   "outputs": [],
   "source": [
    "# we only care if the trainign data colun values contain NaN values \n",
    "df.drop(['VitalID', 'time','fold','ttd','y'], axis=1, inplace=True)\n",
    "df.drop_duplicates(inplace=True)\n",
    "df.dropna(inplace=True)"
   ]
  },
  {
   "cell_type": "code",
   "execution_count": 153,
   "id": "2b7d386b",
   "metadata": {},
   "outputs": [],
   "source": [
    "Demographics = ['bwt', 'ega', 'male', 'apgar5']\n",
    "\n",
    "HR = ['HR.SB.MotifTwo.diff.uu', 'HR.SB.MotifTwo.diff.uuu','HR.ST.LocalExtrema.l25.diffmaxabsmin', 'HR.std','HR.SB.MotifThree.diffquant.hhhh',\n",
    "       'HR.EX.MovingThreshold.a0.25.b0.1.meanqover', 'HR.DN.cv.3','HR.SB.MotifTwo.iqr.ddd','HR.SY.StdNthDer.5','HR.ST.LocalExtrema.l25.maxmaxmed', 'HR.SY.StdNthDer.17', 'HR.Quantile.99', 'HR.FC.Suprise.tstat',\n",
    "       'HR.SB.MotifThree.quantile.hhhh','HR.EX.MovingThreshold.a0.25.b0.05.meanqover','HR.PH.Walkerrunningvar...sw.meanabsdiff', 'HR.CO.tc3.1..denom', 'HR.mean',\n",
    "       'HR.skew2','HR.SB.TransitionMatrix23.sumdiagcov','HR.ST.LocalExtrema.n100.minabsmin', 'HR.kurt2', 'HR.MF.arfit.sbc.7'\n",
    "       ]\n",
    "\n",
    "SPO2 = [ 'SP.EX.MovingThreshold.a0.25.b0.1.meanqover', 'SP.EX.MovingThreshold.a1.b0.25.iqrq', 'SP.PH.Walkerbiasprop.0.1..0.5..sw.meanabsdiff',\n",
    "'SP.EX.MovingThreshold.a0.25.b0.1.maxq', 'SP.PH.Walkerprop.0.9..w.std', 'SP.skew2','SP.SB.MotifTwo.diff.dduu','SP.DN.RemovePointsmin.0.2.mean',\n",
    "'SP.PH.Walkermomentum.2..sw.stdrat','SP.CO.tc3.1..denom','SP.mean','SP.kurt2', 'SP.SB.MotifThree.diffquant.hhh','SP.SB.MotifTwo.mean.dddd',\n",
    "'SP.AutoCorr.lag.4','SP.SB.TransitionMatrix41.ondiag', 'SP.SB.MotifThree.quantile.baaa','SP.std', 'SP.SB.TransitionMatrix21.T10', 'SP.SB.BinaryMethod.iqr.pstretch1'\n",
    ",'SP.PH.Walkerprop.0.9..sw.stdrat','SP.MF.arfit.sbc.7','SP.SB.TransitionMatrix22.mineig','SP.ST.LocalExtrema.n100.minabsmin']"
   ]
  },
  {
   "cell_type": "code",
   "execution_count": null,
   "id": "b8a38a90",
   "metadata": {},
   "outputs": [],
   "source": [
    "df_hr = df[HR]\n",
    "df_spo2 = df[SPO2]\n",
    "df_demographics = df[Demographics]\n",
    "df_hr_spo2 = df[HR + SPO2] \n",
    "df_hr_spo2_demographics = df[HR + SPO2 + Demographics]"
   ]
  },
  {
   "cell_type": "markdown",
   "id": "4d9b0269",
   "metadata": {},
   "source": [
    "## Training"
   ]
  },
  {
   "cell_type": "markdown",
   "id": "b39e05dc",
   "metadata": {},
   "source": []
  },
  {
   "cell_type": "code",
   "execution_count": 95,
   "id": "6f2a4da1",
   "metadata": {},
   "outputs": [],
   "source": [
    "from scipy.stats.mstats import winsorize\n",
    "def winsorize_df(column):\n",
    "    return winsorize(column, limits=(0.1, 99.9))"
   ]
  },
  {
   "cell_type": "code",
   "execution_count": 96,
   "id": "0961f1bb",
   "metadata": {},
   "outputs": [
    {
     "ename": "NameError",
     "evalue": "name 'df_hr' is not defined",
     "output_type": "error",
     "traceback": [
      "\u001b[31m---------------------------------------------------------------------------\u001b[39m",
      "\u001b[31mNameError\u001b[39m                                 Traceback (most recent call last)",
      "\u001b[36mCell\u001b[39m\u001b[36m \u001b[39m\u001b[32mIn[96]\u001b[39m\u001b[32m, line 1\u001b[39m\n\u001b[32m----> \u001b[39m\u001b[32m1\u001b[39m df_windsorized = \u001b[43mdf_hr\u001b[49m.apply(winsorize_df)\n",
      "\u001b[31mNameError\u001b[39m: name 'df_hr' is not defined"
     ]
    }
   ],
   "source": [
    "df_windsorized = df_hr.apply(winsorize_df)"
   ]
  },
  {
   "cell_type": "code",
   "execution_count": null,
   "id": "1ab5923c",
   "metadata": {},
   "outputs": [],
   "source": []
  }
 ],
 "metadata": {
  "kernelspec": {
   "display_name": "venv",
   "language": "python",
   "name": "python3"
  },
  "language_info": {
   "codemirror_mode": {
    "name": "ipython",
    "version": 3
   },
   "file_extension": ".py",
   "mimetype": "text/x-python",
   "name": "python",
   "nbconvert_exporter": "python",
   "pygments_lexer": "ipython3",
   "version": "3.13.6"
  }
 },
 "nbformat": 4,
 "nbformat_minor": 5
}
